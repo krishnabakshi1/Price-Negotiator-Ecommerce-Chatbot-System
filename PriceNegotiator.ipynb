{
  "nbformat": 4,
  "nbformat_minor": 0,
  "metadata": {
    "colab": {
      "name": "PriceNegotiator.ipynb",
      "provenance": [],
      "authorship_tag": "ABX9TyNpCBfAVR/l9s2YN5d1LGET",
      "include_colab_link": true
    },
    "kernelspec": {
      "name": "python3",
      "display_name": "Python 3"
    },
    "language_info": {
      "name": "python"
    }
  },
  "cells": [
    {
      "cell_type": "markdown",
      "metadata": {
        "id": "view-in-github",
        "colab_type": "text"
      },
      "source": [
        "<a href=\"https://colab.research.google.com/github/krishnabakshi1/Price-Negotiator-Ecommerce-Chatbot-System/blob/main/PriceNegotiator.ipynb\" target=\"_parent\"><img src=\"https://colab.research.google.com/assets/colab-badge.svg\" alt=\"Open In Colab\"/></a>"
      ]
    },
    {
      "cell_type": "code",
      "execution_count": 8,
      "metadata": {
        "colab": {
          "base_uri": "https://localhost:8080/"
        },
        "id": "wVD9RsDXwj94",
        "outputId": "d371ec2b-1a04-4b8d-e52a-43134525c4aa"
      },
      "outputs": [
        {
          "output_type": "stream",
          "name": "stdout",
          "text": [
            "Requirement already satisfied: chatterbot in /usr/local/lib/python3.7/dist-packages (1.0.8)\n",
            "Requirement already satisfied: mathparse<0.2,>=0.1 in /usr/local/lib/python3.7/dist-packages (from chatterbot) (0.1.2)\n",
            "Requirement already satisfied: sqlalchemy<1.4,>=1.3 in /usr/local/lib/python3.7/dist-packages (from chatterbot) (1.3.24)\n",
            "Requirement already satisfied: pytz in /usr/local/lib/python3.7/dist-packages (from chatterbot) (2018.9)\n",
            "Requirement already satisfied: python-dateutil<2.9,>=2.8 in /usr/local/lib/python3.7/dist-packages (from chatterbot) (2.8.2)\n",
            "Requirement already satisfied: six>=1.5 in /usr/local/lib/python3.7/dist-packages (from python-dateutil<2.9,>=2.8->chatterbot) (1.15.0)\n",
            "Collecting chatterbot-corpus\n",
            "  Downloading chatterbot_corpus-1.2.0-py2.py3-none-any.whl (117 kB)\n",
            "\u001b[K     |████████████████████████████████| 117 kB 4.3 MB/s \n",
            "\u001b[?25hRequirement already satisfied: PyYAML<4.0,>=3.12 in /usr/local/lib/python3.7/dist-packages (from chatterbot-corpus) (3.13)\n",
            "Installing collected packages: chatterbot-corpus\n",
            "Successfully installed chatterbot-corpus-1.2.0\n"
          ]
        }
      ],
      "source": [
        "#Install chatterbot\n",
        "!pip install chatterbot\n",
        "!pip3 install chatterbot-corpus"
      ]
    },
    {
      "cell_type": "code",
      "source": [
        "#Creating a basic response function for chatbot. \n",
        "# Define a dictionary with the predefined responses for greetings.\n",
        "responses = {\n",
        "  \"Hi\": \"How can I help you?\",\n",
        "  \"Hello\": \"How can I help you?}\",\n",
        "  \"Hey\": \"How can I help you?\",\n",
        "  \"Whats up\": \"How can I help you?\"\n",
        "}\n",
        "\n",
        "\n",
        "# Return the matching response if there is one, default otherwise\n",
        "def respond(message):\n",
        "    # Check if the message is in the responses\n",
        "    if message in responses:\n",
        "        # Return the matching message\n",
        "        bot_message = responses[message]\n",
        "    else:\n",
        "        # Return the \"default\" message\n",
        "        bot_message = responses[\"default\"]\n",
        "    return bot_message"
      ],
      "metadata": {
        "id": "86duXNLBws9z"
      },
      "execution_count": 17,
      "outputs": []
    },
    {
      "cell_type": "code",
      "source": [
        "#Checking the responce function for greetings. \n",
        "respond('Hi')"
      ],
      "metadata": {
        "colab": {
          "base_uri": "https://localhost:8080/",
          "height": 35
        },
        "id": "3usq-F9oxBm1",
        "outputId": "b4484ed5-4376-4f22-cba7-d2a8a21f4c62"
      },
      "execution_count": 18,
      "outputs": [
        {
          "output_type": "execute_result",
          "data": {
            "application/vnd.google.colaboratory.intrinsic+json": {
              "type": "string"
            },
            "text/plain": [
              "'How can I help you?'"
            ]
          },
          "metadata": {},
          "execution_count": 18
        }
      ]
    },
    {
      "cell_type": "code",
      "source": [
        "respond('Whats up')"
      ],
      "metadata": {
        "colab": {
          "base_uri": "https://localhost:8080/",
          "height": 35
        },
        "id": "Y5MIMz6R4wk6",
        "outputId": "ef43f06b-b31e-4c29-803e-107dedb6fcc6"
      },
      "execution_count": 21,
      "outputs": [
        {
          "output_type": "execute_result",
          "data": {
            "application/vnd.google.colaboratory.intrinsic+json": {
              "type": "string"
            },
            "text/plain": [
              "'How can I help you?'"
            ]
          },
          "metadata": {},
          "execution_count": 21
        }
      ]
    },
    {
      "cell_type": "code",
      "source": [
        "# Define a dictionary with the predefined responses for Price Negotiation.\n",
        "responses = {\n",
        "  \"Can I get a discount\": \"Would you like a 5 percent discount coupon?\",\n",
        "  \"Price for this product is too high\": \"Would you like a 5 percent discount coupon?\",\n",
        "  \"Do you offer discounts?\": \"Would you like a 5 percent discount coupon?\",\n",
        "  \"Price too high\": \"Would you like a 5 percent discount coupon?\"\n",
        "}\n",
        "\n",
        "\n",
        "# Return the matching response if there is one, default otherwise\n",
        "def respond(message):\n",
        "    # Check if the message is in the responses\n",
        "    if message in responses:\n",
        "        # Return the matching message\n",
        "        bot_message = responses[message]\n",
        "    else:\n",
        "        # Return the \"default\" message\n",
        "        bot_message = responses[\"default\"]\n",
        "    return bot_message"
      ],
      "metadata": {
        "id": "QVtH_udG43Lz"
      },
      "execution_count": 22,
      "outputs": []
    },
    {
      "cell_type": "code",
      "source": [
        "#Checking the reponse function for Negotiations\n",
        "\n",
        "respond('Price too high')"
      ],
      "metadata": {
        "colab": {
          "base_uri": "https://localhost:8080/",
          "height": 35
        },
        "id": "-WV7N01f5oDT",
        "outputId": "84b5a7ca-908e-475a-e60b-c4cd84376a28"
      },
      "execution_count": 24,
      "outputs": [
        {
          "output_type": "execute_result",
          "data": {
            "application/vnd.google.colaboratory.intrinsic+json": {
              "type": "string"
            },
            "text/plain": [
              "'Would you like a 5 percent discount coupon?'"
            ]
          },
          "metadata": {},
          "execution_count": 24
        }
      ]
    },
    {
      "cell_type": "code",
      "source": [
        "respond('Can I get a discount')"
      ],
      "metadata": {
        "colab": {
          "base_uri": "https://localhost:8080/",
          "height": 35
        },
        "id": "uy6LJ6jW5_5w",
        "outputId": "e34812b8-e474-43aa-ac0d-77372af782c0"
      },
      "execution_count": 25,
      "outputs": [
        {
          "output_type": "execute_result",
          "data": {
            "application/vnd.google.colaboratory.intrinsic+json": {
              "type": "string"
            },
            "text/plain": [
              "'Would you like a 5 percent discount coupon?'"
            ]
          },
          "metadata": {},
          "execution_count": 25
        }
      ]
    },
    {
      "cell_type": "code",
      "source": [
        "# Define a dictionary with the predefined responses for Price Negotiation if customer agrees to 5% discount.\n",
        "responses = {\n",
        "  \"Yes\": \"Your discount coupon is Protien5, Is there anything else I can help you with? \",\n",
        "  \"Yes thank you\": \"Your discount coupon is Protien5, Is there anything else I can help you with?\",\n",
        "  \"Thank you so much\": \"Your discount coupon is Protien5, Is there anything else I can help you with?\",\n",
        "  \"Thanks\": \"Your discount coupon is Protien5, Is there anything else I can help you with?\"\n",
        "}\n",
        "\n",
        "\n",
        "# Return the matching response if there is one, default otherwise\n",
        "def respond(message):\n",
        "    # Check if the message is in the responses\n",
        "    if message in responses:\n",
        "        # Return the matching message\n",
        "        bot_message = responses[message]\n",
        "    else:\n",
        "        # Return the \"default\" message\n",
        "        bot_message = responses[\"default\"]\n",
        "    return bot_message"
      ],
      "metadata": {
        "id": "1OOT3Tfw6OWI"
      },
      "execution_count": 26,
      "outputs": []
    },
    {
      "cell_type": "code",
      "source": [
        "respond('Thank you so much')"
      ],
      "metadata": {
        "colab": {
          "base_uri": "https://localhost:8080/",
          "height": 35
        },
        "id": "LEQ1jHuB610r",
        "outputId": "4f5b10cc-1f00-4dc0-d637-691883b065e9"
      },
      "execution_count": 27,
      "outputs": [
        {
          "output_type": "execute_result",
          "data": {
            "application/vnd.google.colaboratory.intrinsic+json": {
              "type": "string"
            },
            "text/plain": [
              "'Your discount coupon is Protien5, Is there anything else I can help you with?'"
            ]
          },
          "metadata": {},
          "execution_count": 27
        }
      ]
    },
    {
      "cell_type": "code",
      "source": [
        "# Define a dictionary with the predefined responses for Price Negotiation if customer does not agrees to 5% discount.\n",
        "responses = {\n",
        "  \"No\": \"We apologise, This is the maximum discount we can provide at the moment, please 1 if would like the end the chat or 2 if you would like to talk to an agent. \",\n",
        "  \"Can I get more discount\": \"We apologise, This is the maximum discount we can provide at the moment, please 1 if would like the end the chat or 2 if you would like to talk to an agent. \" \"\n",
        "}\n",
        "\n",
        "\n",
        "# Return the matching response if there is one, default otherwise\n",
        "def respond(message):\n",
        "    # Check if the message is in the responses\n",
        "    if message in responses:\n",
        "        # Return the matching message\n",
        "        bot_message = responses[message]\n",
        "    else:\n",
        "        # Return the \"default\" message\n",
        "        bot_message = responses[\"default\"]\n",
        "    return bot_message"
      ],
      "metadata": {
        "id": "t8ZnSeqN66T7"
      },
      "execution_count": 28,
      "outputs": []
    },
    {
      "cell_type": "code",
      "source": [
        "# Define a dictionary with the predefined responses for Price Negotiation if customer does not agrees to 5% discount.\n",
        "responses = {\n",
        "  \"1\": \"Thank you so much, Have a nice day! \",\n",
        "  \"2\": \"Transfering you to an agent. \"\n",
        "}\n",
        "\n",
        "\n",
        "# Return the matching response if there is one, default otherwise\n",
        "def respond(message):\n",
        "    # Check if the message is in the responses\n",
        "    if message in responses:\n",
        "        # Return the matching message\n",
        "        bot_message = responses[message]\n",
        "    else:\n",
        "        # Return the \"default\" message\n",
        "        bot_message = responses[\"default\"]\n",
        "    return bot_message"
      ],
      "metadata": {
        "id": "-uSqIYqZ7aLp"
      },
      "execution_count": 29,
      "outputs": []
    },
    {
      "cell_type": "code",
      "source": [
        ""
      ],
      "metadata": {
        "id": "mQ3QoL0l8Dz8"
      },
      "execution_count": null,
      "outputs": []
    }
  ]
}